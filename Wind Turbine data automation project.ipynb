{
 "cells": [
  {
   "cell_type": "code",
   "execution_count": null,
   "metadata": {},
   "outputs": [],
   "source": [
    "import openpyxl\n",
    "import pandas as pd\n",
    "import numpy as np\n",
    "import matplotlib.pyplot as plt\n",
    "import seaborn as sns\n",
    "from matplotlib.pyplot import *"
   ]
  },
  {
   "cell_type": "markdown",
   "metadata": {},
   "source": [
    "# Write trubine file name and month name"
   ]
  },
  {
   "cell_type": "code",
   "execution_count": null,
   "metadata": {},
   "outputs": [],
   "source": [
    "\n",
    "file_name = \"WEA83797.xlsx\"\n",
    "file_loc = \"/WEA83797\"\n",
    "month = \"/May 2018\""
   ]
  },
  {
   "cell_type": "markdown",
   "metadata": {},
   "source": [
    "# Give file adddress "
   ]
  },
  {
   "cell_type": "code",
   "execution_count": null,
   "metadata": {},
   "outputs": [],
   "source": [
    "data_df = pd.read_excel(r\"/home/faisal/Desktop\"+month+\"/Individual Turbine\"+file_loc+\"/\"+file_name)\n",
    "inter_df = pd.read_csv(\"/home/faisal/Desktop\"+month+\"/interpolate values.csv\")"
   ]
  },
  {
   "cell_type": "code",
   "execution_count": null,
   "metadata": {},
   "outputs": [],
   "source": [
    "#Printig Exact location of file\n",
    "\n",
    "print(\"/home/faisal/Desktop/Wind data\"+month+\"/Individual Turbine\"+file_loc+\"/\"+file_name)"
   ]
  },
  {
   "cell_type": "code",
   "execution_count": null,
   "metadata": {},
   "outputs": [],
   "source": [
    "data_df.shape"
   ]
  },
  {
   "cell_type": "code",
   "execution_count": null,
   "metadata": {},
   "outputs": [],
   "source": [
    "inter_df.shape"
   ]
  },
  {
   "cell_type": "markdown",
   "metadata": {},
   "source": [
    "# Find mean and minimum value of densities."
   ]
  },
  {
   "cell_type": "code",
   "execution_count": null,
   "metadata": {},
   "outputs": [],
   "source": [
    "data_df['DENSITY'].mean()"
   ]
  },
  {
   "cell_type": "code",
   "execution_count": null,
   "metadata": {},
   "outputs": [],
   "source": [
    "data_df['DENSITY'].min()"
   ]
  },
  {
   "cell_type": "markdown",
   "metadata": {},
   "source": [
    "# Write values of avg and minium densities from interpolated density file."
   ]
  },
  {
   "cell_type": "code",
   "execution_count": null,
   "metadata": {},
   "outputs": [],
   "source": [
    "# Enter Density value here\n",
    "Avg_Density = '1.125'   #avg density\n",
    "Lower_Density = '1.1'  # min density"
   ]
  },
  {
   "cell_type": "code",
   "execution_count": null,
   "metadata": {},
   "outputs": [],
   "source": []
  },
  {
   "cell_type": "code",
   "execution_count": null,
   "metadata": {},
   "outputs": [],
   "source": []
  },
  {
   "cell_type": "code",
   "execution_count": null,
   "metadata": {},
   "outputs": [],
   "source": [
    "    # Converting Turbine wind speed column values to 1 decimal place.\n",
    "    \n",
    "data_df = data_df.round({\"TURBINE_WIND_SPEED\":1})\n",
    "data_df.head()"
   ]
  },
  {
   "cell_type": "markdown",
   "metadata": {},
   "source": [
    "# Working on turbine data to get desired outputs start from below:"
   ]
  },
  {
   "cell_type": "markdown",
   "metadata": {},
   "source": [
    "# 1) Plotting graph between Active power and turbine wind speed in raw data file and saving it in desired location"
   ]
  },
  {
   "cell_type": "code",
   "execution_count": null,
   "metadata": {},
   "outputs": [],
   "source": [
    "# GRAPH OF TURBINE\n",
    "\n",
    "figure(num=None, figsize=(25, 10), dpi=80, facecolor='w', edgecolor='k') \n",
    "plt.scatter(data_df['TURBINE_WIND_SPEED'], data_df['ACTIVEPOWER'], color = 'green')\n",
    "plt.plot(inter_df['wind speed'], inter_df[Avg_Density], color = 'red', label = 'Power curve @ density of '+Avg_Density+' Kg/m3')\n",
    "plt.plot(inter_df['wind speed'], inter_df[Lower_Density], color = 'black', label = 'Power curve @ density of '+Lower_Density+' Kg/m3')\n",
    "plt.title(\"Speed vs Power Curve of \"+file_name.replace(\".xlsx\", \" \")+ \"for the month of\"+month.replace(\"/\", \" \"),  fontsize='xx-large')\n",
    "plt.legend(loc='upper left', fontsize='xx-large')\n",
    "plt.xlabel('SPEED(M/S)' , fontsize='xx-large')\n",
    "plt.ylabel('POWER(K/W)',  fontsize='xx-large')\n",
    "plt.minorticks_on()\n",
    "plt.grid(color='grey', linestyle='-', linewidth=2,  which='major')\n",
    "axes = plt.gca()\n",
    "axes.set_xlim([0,18])\n",
    "axes.set_ylim([0,3000])\n",
    "plt.savefig(\"/home/faisal/Desktop/\"+month+\"/Individual Turbine\" +file_loc+ \"/\"+file_name.replace('.xlsx',\"\")+\".png\")\n",
    "#plt.show()\n",
    "\n"
   ]
  },
  {
   "cell_type": "markdown",
   "metadata": {},
   "source": [
    "# 2) WORK ON REMARKED COLUMN"
   ]
  },
  {
   "cell_type": "markdown",
   "metadata": {},
   "source": [
    "# 2a) Separating load restricted values (Remarked values) and ploting their graphs"
   ]
  },
  {
   "cell_type": "code",
   "execution_count": null,
   "metadata": {},
   "outputs": [],
   "source": [
    "# Separate all values with remarks\n",
    "Load_Restriction = data_df[data_df['REMARKS'].notnull()]\n",
    "Load_Restriction.shape\n",
    "column = ['ALLTURBINE_AVG_WINDSPD','BAROMETER',1.15,'TEMPERATURE','HUMIDITY','DENSITY','DURATION_MINUTES','REMARKS','LOAD_CURTAILED_TO_MW','LOAD_MWS_CURTAILED','WTGS_EFFECTED','BREAKFROM_DATETIME','BREAKTO_DATETIME']\n",
    "Load_Restriction = Load_Restriction.drop(column, axis = 1)\n",
    "Load_Restriction.head()"
   ]
  },
  {
   "cell_type": "code",
   "execution_count": null,
   "metadata": {},
   "outputs": [],
   "source": [
    "                              #LOAD RESTRICTION\n",
    "\n",
    "figure(num=None, figsize=(25, 10), dpi=80, facecolor='w', edgecolor='k') \n",
    "plt.scatter(Load_Restriction['TURBINE_WIND_SPEED'], Load_Restriction['ACTIVEPOWER'], color = 'green')\n",
    "plt.plot(inter_df['wind speed'], inter_df[Avg_Density], color = 'red', label = 'Power curve @ density of '+Avg_Density+' Kg/m3')\n",
    "plt.plot(inter_df['wind speed'], inter_df[Lower_Density], color = 'black', label = 'Power curve @ density of '+Lower_Density+' Kg/m3')\n",
    "plt.title(\"Speed vs Power Curve of \"+file_name.replace(\".xlsx\", \" \")+ \"for the month of\"+month.replace(\"/\", \" \")+ \" (Load Restriction only)\",  fontsize='xx-large')\n",
    "plt.legend(loc='upper left', fontsize='xx-large')\n",
    "plt.xlabel('SPEED(M/S)' , fontsize='xx-large')\n",
    "plt.ylabel('POWER(K/W)',  fontsize='xx-large')\n",
    "plt.minorticks_on()\n",
    "plt.grid(color='grey', linestyle='-', linewidth=2,  which='major')\n",
    "axes = plt.gca()\n",
    "axes.set_xlim([0,18])\n",
    "axes.set_ylim([0,3000])\n",
    "plt.savefig(\"/home/faisal/Desktop/\"+month+\"/Individual Turbine\" +file_loc+ \"/Load_Restriction.png\")\n",
    "#plt.show()\n",
    "\n"
   ]
  },
  {
   "cell_type": "markdown",
   "metadata": {},
   "source": [
    "# 2b) Separating Non-load restricted values and ploting their graphs"
   ]
  },
  {
   "cell_type": "code",
   "execution_count": null,
   "metadata": {},
   "outputs": [],
   "source": [
    "# Separate all values without remarks\n",
    "Non_Load_Restriction = data_df[data_df['REMARKS'].isnull()]\n",
    "column = ['ALLTURBINE_AVG_WINDSPD','BAROMETER',1.15,'TEMPERATURE','HUMIDITY','DENSITY','DURATION_MINUTES','REMARKS','LOAD_CURTAILED_TO_MW','LOAD_MWS_CURTAILED','WTGS_EFFECTED','BREAKFROM_DATETIME','BREAKTO_DATETIME']\n",
    "Non_Load_Restriction = Non_Load_Restriction.drop(column, axis = 1)\n",
    "Non_Load_Restriction.head()"
   ]
  },
  {
   "cell_type": "code",
   "execution_count": null,
   "metadata": {},
   "outputs": [],
   "source": [
    "                         # NON-LOAD RESTRICTION\n",
    "figure(num=None, figsize=(25, 10), dpi=80, facecolor='w', edgecolor='k') \n",
    "plt.scatter(Non_Load_Restriction['TURBINE_WIND_SPEED'], Non_Load_Restriction['ACTIVEPOWER'], color = 'green')\n",
    "plt.plot(inter_df['wind speed'], inter_df[Avg_Density], color = 'red', label = 'Power curve @ density of '+Avg_Density+' Kg/m3')\n",
    "plt.plot(inter_df['wind speed'], inter_df[Lower_Density], color = 'black', label = 'Power curve @ density of '+Lower_Density+' Kg/m3')\n",
    "plt.title(\"Speed vs Power Curve of \"+file_name.replace(\".xlsx\", \" \")+ \"for the month of\"+month.replace(\"/\", \" \")+ \" (Without Load Restriction only)\",  fontsize='xx-large')\n",
    "plt.legend(loc='upper left', fontsize='xx-large')\n",
    "plt.xlabel('SPEED(M/S)' , fontsize='xx-large')\n",
    "plt.ylabel('POWER(K/W)',  fontsize='xx-large')\n",
    "plt.minorticks_on()\n",
    "plt.grid(color='grey', linestyle='-', linewidth=2,  which='major')\n",
    "axes = plt.gca()\n",
    "axes.set_xlim([0,18])\n",
    "axes.set_ylim([0,3000])\n",
    "plt.savefig(\"/home/faisal/Desktop/\"+month+\"/Individual Turbine\" +file_loc+ \"/Without_Load_Restriction.png\")\n",
    "#plt.show()\n",
    "\n",
    "\n"
   ]
  },
  {
   "cell_type": "code",
   "execution_count": null,
   "metadata": {},
   "outputs": [],
   "source": []
  },
  {
   "cell_type": "markdown",
   "metadata": {},
   "source": [
    "# 3) Working on UnderPerformance values"
   ]
  },
  {
   "cell_type": "code",
   "execution_count": null,
   "metadata": {},
   "outputs": [],
   "source": [
    "Non_Load_Restriction_2 = Non_Load_Restriction"
   ]
  },
  {
   "cell_type": "markdown",
   "metadata": {},
   "source": [
    "# 3a) Adding a boolean column to check turbine performance on given time is under performed or not."
   ]
  },
  {
   "cell_type": "code",
   "execution_count": null,
   "metadata": {},
   "outputs": [],
   "source": [
    "Non_Load_Restriction_2.insert(0, 'under_performance',     \n",
    "                    ((Non_Load_Restriction_2['TURBINE_WIND_SPEED'] <= 4.5) )\n",
    "                  | ((Non_Load_Restriction_2['TURBINE_WIND_SPEED'] >= 4.5) &( Non_Load_Restriction_2['TURBINE_WIND_SPEED'] <= 5) & (Non_Load_Restriction_2['ACTIVEPOWER'] >= 100))\n",
    "                  | ((Non_Load_Restriction_2['TURBINE_WIND_SPEED'] >= 5)   &( Non_Load_Restriction_2['TURBINE_WIND_SPEED'] <= 6) & (Non_Load_Restriction_2['ACTIVEPOWER'] >= 200))\n",
    "                  | ((Non_Load_Restriction_2['TURBINE_WIND_SPEED'] >= 6)   &( Non_Load_Restriction_2['TURBINE_WIND_SPEED'] <= 7) & (Non_Load_Restriction_2['ACTIVEPOWER'] >= 300))\n",
    "                  | ((Non_Load_Restriction_2['TURBINE_WIND_SPEED'] >= 7)   &( Non_Load_Restriction_2['TURBINE_WIND_SPEED'] <= 8) & (Non_Load_Restriction_2['ACTIVEPOWER'] >= 500))\n",
    "                  | ((Non_Load_Restriction_2['TURBINE_WIND_SPEED'] >= 8)   &( Non_Load_Restriction_2['TURBINE_WIND_SPEED'] <= 9) & (Non_Load_Restriction_2['ACTIVEPOWER'] >= 800))\n",
    "                  | ((Non_Load_Restriction_2['TURBINE_WIND_SPEED'] >= 9)   &( Non_Load_Restriction_2['TURBINE_WIND_SPEED'] <= 9.5) & (Non_Load_Restriction_2['ACTIVEPOWER'] >= 1000))\n",
    "                  | ((Non_Load_Restriction_2['TURBINE_WIND_SPEED'] >= 9.5) &( Non_Load_Restriction_2['TURBINE_WIND_SPEED'] <= 10) & (Non_Load_Restriction_2['ACTIVEPOWER'] >= 1200))\n",
    "                  | ((Non_Load_Restriction_2['TURBINE_WIND_SPEED'] >= 10)  &( Non_Load_Restriction_2['TURBINE_WIND_SPEED'] <= 10.5) & (Non_Load_Restriction_2['ACTIVEPOWER'] >= 1500))\n",
    "                  | ((Non_Load_Restriction_2['TURBINE_WIND_SPEED'] >= 10.5)&( Non_Load_Restriction_2['TURBINE_WIND_SPEED'] <= 11) & (Non_Load_Restriction_2['ACTIVEPOWER'] >= 1600))\n",
    "                  | ((Non_Load_Restriction_2['TURBINE_WIND_SPEED'] >= 11)  &( Non_Load_Restriction_2['TURBINE_WIND_SPEED'] <= 12) & (Non_Load_Restriction_2['ACTIVEPOWER'] >= 1800))\n",
    "                  | ((Non_Load_Restriction_2['TURBINE_WIND_SPEED'] >= 12)  & (Non_Load_Restriction_2['ACTIVEPOWER'] >= 2000))\n",
    "                  )\n"
   ]
  },
  {
   "cell_type": "markdown",
   "metadata": {},
   "source": [
    "# 3b) Separating underperformed values and plotting their graph"
   ]
  },
  {
   "cell_type": "code",
   "execution_count": null,
   "metadata": {},
   "outputs": [],
   "source": [
    "## WORKING ON UNDERPERFORMANCED VALUES\n",
    "underperformance = Non_Load_Restriction_2[Non_Load_Restriction_2['under_performance'] == False]\n",
    "\n",
    "figure(num=None, figsize=(25, 10), dpi=80, facecolor='w', edgecolor='k') \n",
    "plt.scatter(underperformance['TURBINE_WIND_SPEED'], underperformance['ACTIVEPOWER'], color = 'green')\n",
    "plt.plot(inter_df['wind speed'], inter_df[Avg_Density], color = 'red', label = 'Power curve @ density of '+Avg_Density+' Kg/m3')\n",
    "plt.plot(inter_df['wind speed'], inter_df[Lower_Density], color = 'black', label = 'Power curve @ density of '+Lower_Density+' Kg/m3')\n",
    "plt.title(\"Speed vs Power Curve of \"+file_name.replace(\".xlsx\", \" \")+ \"for the month of\"+month.replace(\"/\", \" \")+ \" (Underperformance only)\",  fontsize='xx-large')\n",
    "plt.legend(loc='upper left', fontsize='xx-large')\n",
    "plt.xlabel('SPEED(M/S)' , fontsize='xx-large')\n",
    "plt.ylabel('POWER(K/W)',  fontsize='xx-large')\n",
    "plt.minorticks_on()\n",
    "plt.grid(color='grey', linestyle='-', linewidth=2,  which='major')\n",
    "axes = plt.gca()\n",
    "axes.set_xlim([0,18])\n",
    "axes.set_ylim([0,3000])\n",
    "plt.savefig(\"/home/faisal/Desktop/\"+month+\"/Individual Turbine\"+file_loc+ \"/underperformance.png\")\n",
    "#plt.show()\n",
    "#plt.savefig(\"/home/faisal/Desktop/Wind data\"+month+\"/Individual Turbine/\"+file_loc+\"/underperformance.png\")"
   ]
  },
  {
   "cell_type": "markdown",
   "metadata": {},
   "source": [
    "# 3c) Separating refined values and plotting there graphs"
   ]
  },
  {
   "cell_type": "code",
   "execution_count": null,
   "metadata": {},
   "outputs": [],
   "source": [
    "## WORKING ON REFINED VALUES\n",
    "\n",
    "Refined = Non_Load_Restriction_2[Non_Load_Restriction_2['under_performance'] == True]\n",
    "\n",
    "figure(num=None, figsize=(25, 10), dpi=80, facecolor='w', edgecolor='k') \n",
    "plt.scatter(Refined['TURBINE_WIND_SPEED'], Refined['ACTIVEPOWER'], color = 'green')\n",
    "plt.plot(inter_df['wind speed'], inter_df[Avg_Density], color = 'red', label = 'Power curve @ density of '+Avg_Density+' Kg/m3')\n",
    "plt.plot(inter_df['wind speed'], inter_df[Lower_Density], color = 'black', label = 'Power curve @ density of '+Lower_Density+' Kg/m3')\n",
    "plt.title(\"Speed vs Power Curve of \"+file_name.replace(\".xlsx\", \" \")+ \"for the month of\"+month.replace(\"/\", \" \")+ \" (Without LR and UP only)\",  fontsize='xx-large')\n",
    "plt.legend(loc='upper left', fontsize='xx-large')\n",
    "plt.xlabel('SPEED(M/S)' , fontsize='xx-large')\n",
    "plt.ylabel('POWER(K/W)',  fontsize='xx-large')\n",
    "plt.minorticks_on()\n",
    "plt.grid(color='grey', linestyle='-', linewidth=2,  which='major')\n",
    "axes = plt.gca()\n",
    "axes.set_xlim([0,18])\n",
    "axes.set_ylim([0,3000])\n",
    "plt.savefig(\"/home/faisal/Desktop\"+month+\"/Individual Turbine\" +file_loc+ \"/Without LR and UP.png\")\n",
    "#plt.show()\n",
    "\n"
   ]
  },
  {
   "cell_type": "code",
   "execution_count": null,
   "metadata": {},
   "outputs": [],
   "source": [
    "Refined = Refined.drop('under_performance', axis = 1)\n",
    "underperformance = underperformance.drop('under_performance', axis = 1)"
   ]
  },
  {
   "cell_type": "code",
   "execution_count": null,
   "metadata": {},
   "outputs": [],
   "source": [
    "Refined.reset_index(inplace=True)\n",
    "Refined = Refined.drop('index', axis = 1)"
   ]
  },
  {
   "cell_type": "code",
   "execution_count": null,
   "metadata": {},
   "outputs": [],
   "source": [
    "underperformance.reset_index(inplace=True)\n",
    "underperformance = underperformance.drop('index', axis = 1)"
   ]
  },
  {
   "cell_type": "code",
   "execution_count": null,
   "metadata": {},
   "outputs": [],
   "source": [
    "underperformance.shape"
   ]
  },
  {
   "cell_type": "code",
   "execution_count": null,
   "metadata": {},
   "outputs": [],
   "source": [
    "Refined.shape"
   ]
  },
  {
   "cell_type": "markdown",
   "metadata": {},
   "source": [
    "# 4) Finding values of Active Power on average and lower densities by comparing 2 different data files i.e original turbine data set and interpolated densities values and appending columns."
   ]
  },
  {
   "cell_type": "markdown",
   "metadata": {},
   "source": [
    " # 4a) Comparing with average density"
   ]
  },
  {
   "cell_type": "code",
   "execution_count": null,
   "metadata": {},
   "outputs": [],
   "source": [
    "values= []\n",
    "for rows in range(len(Refined)):\n",
    "    for x in range(len(inter_df)):\n",
    "        if Refined.iloc[rows]['TURBINE_WIND_SPEED'] == inter_df.iloc[x]['wind speed']:\n",
    "            values.append(inter_df.iloc[x][Avg_Density])"
   ]
  },
  {
   "cell_type": "code",
   "execution_count": null,
   "metadata": {},
   "outputs": [],
   "source": [
    "Avg = pd.DataFrame(values)\n",
    "Avg.rename(columns={0: 'Power @ '+Avg_Density}, inplace=True)\n",
    "#Refined = pd.concat([df, Refined], axis=1)\n",
    "#Refined.loc['Total', ['ACTIVEPOWER','Power @ '+Avg_Density]] = Refined[['ACTIVEPOWER','Power @ '+Avg_Density]].sum()\n",
    "\n",
    "\n"
   ]
  },
  {
   "cell_type": "markdown",
   "metadata": {},
   "source": [
    "# 4b) Comparing with Lower Density"
   ]
  },
  {
   "cell_type": "code",
   "execution_count": null,
   "metadata": {},
   "outputs": [],
   "source": [
    "values1 = []\n",
    "for rows in range(len(Refined)):\n",
    "    for x in range(len(inter_df)):\n",
    "        if Refined.iloc[rows]['TURBINE_WIND_SPEED'] == inter_df.iloc[x]['wind speed']:\n",
    "            values1.append(inter_df.iloc[x][Lower_Density])"
   ]
  },
  {
   "cell_type": "code",
   "execution_count": null,
   "metadata": {},
   "outputs": [],
   "source": [
    "lower = pd.DataFrame(values1)\n",
    "lower.rename(columns={0: 'Power @ '+Lower_Density}, inplace=True)\n"
   ]
  },
  {
   "cell_type": "code",
   "execution_count": null,
   "metadata": {},
   "outputs": [],
   "source": [
    "## Adding above values of active power on average density and lower density in main data frame\n",
    "\n",
    "Refined = pd.concat([Refined, Avg, lower], axis=1)"
   ]
  },
  {
   "cell_type": "code",
   "execution_count": null,
   "metadata": {},
   "outputs": [],
   "source": [
    "Refined.loc['Total', ['ACTIVEPOWER','Power @ '+Avg_Density,'Power @ '+Lower_Density]] = Refined[['ACTIVEPOWER','Power @ '+Avg_Density,'Power @ '+Lower_Density]].sum()\n"
   ]
  },
  {
   "cell_type": "code",
   "execution_count": null,
   "metadata": {},
   "outputs": [],
   "source": [
    "Refined.shape()"
   ]
  },
  {
   "cell_type": "markdown",
   "metadata": {},
   "source": [
    "# 5) Calculation of Deflections in active power due to avergae and lower densities."
   ]
  },
  {
   "cell_type": "code",
   "execution_count": null,
   "metadata": {},
   "outputs": [],
   "source": [
    "#Deflection due to Average Density\n",
    "\n",
    "Deflection = ((Refined['Power @ '+Avg_Density]-Refined['ACTIVEPOWER'])/Refined['Power @ '+Avg_Density])*100\n",
    "Deflection_Avg = pd.DataFrame(Deflection)\n",
    "Deflection_Avg.rename(columns={0: 'Deflection due to '+Avg_Density}, inplace=True)\n",
    "Deflection_Avg = Deflection_Avg.round({'Deflection due to '+Avg_Density:2})\n",
    "Refined = pd.concat([Refined, Deflection_Avg], axis=1)"
   ]
  },
  {
   "cell_type": "code",
   "execution_count": null,
   "metadata": {},
   "outputs": [],
   "source": [
    "#Deflection due to Lower density\n",
    "\n",
    "Deflection2 = ((Refined['Power @ '+Lower_Density]-Refined['ACTIVEPOWER'])/Refined['Power @ '+Lower_Density])*100\n",
    "df4 = pd.DataFrame(Deflection2)\n",
    "df4.rename(columns={0: 'Deflection due to '+Lower_Density}, inplace=True)\n",
    "df4 = df4.round({'Deflection due to '+Lower_Density:2})\n",
    "Refined = pd.concat([Refined, df4], axis=1)"
   ]
  },
  {
   "cell_type": "code",
   "execution_count": null,
   "metadata": {},
   "outputs": [],
   "source": [
    "Refined"
   ]
  },
  {
   "cell_type": "markdown",
   "metadata": {},
   "source": [
    "# 6) FINAL CREATION OF EXCEL FILE WITH REQUIRED SHEETS"
   ]
  },
  {
   "cell_type": "code",
   "execution_count": null,
   "metadata": {},
   "outputs": [],
   "source": [
    "# Create a Pandas Excel writer using XlsxWriter as the engine.\n",
    "\n",
    "writer = pd.ExcelWriter(file_name, engine='xlsxwriter')\n",
    "\n",
    "# Write each dataframe to a different worksheet.\n",
    "data_df.to_excel(writer, sheet_name= file_name.replace('.xlsx',\"\"))\n",
    "Load_Restriction.to_excel(writer, sheet_name='Load Restriction')\n",
    "Non_Load_Restriction.to_excel(writer, sheet_name='Without Load Restriction')\n",
    "underperformance.to_excel(writer, sheet_name='underperformance')\n",
    "Refined.to_excel(writer, sheet_name='Without LR and UP')\n",
    "# Close the Pandas Excel writer and output the Excel file.\n",
    "writer.save()"
   ]
  },
  {
   "cell_type": "code",
   "execution_count": null,
   "metadata": {},
   "outputs": [],
   "source": []
  },
  {
   "cell_type": "code",
   "execution_count": null,
   "metadata": {},
   "outputs": [],
   "source": []
  },
  {
   "cell_type": "code",
   "execution_count": null,
   "metadata": {},
   "outputs": [],
   "source": []
  },
  {
   "cell_type": "code",
   "execution_count": null,
   "metadata": {},
   "outputs": [],
   "source": []
  },
  {
   "cell_type": "code",
   "execution_count": null,
   "metadata": {},
   "outputs": [],
   "source": []
  },
  {
   "cell_type": "code",
   "execution_count": null,
   "metadata": {},
   "outputs": [],
   "source": []
  },
  {
   "cell_type": "code",
   "execution_count": null,
   "metadata": {},
   "outputs": [],
   "source": []
  },
  {
   "cell_type": "code",
   "execution_count": null,
   "metadata": {},
   "outputs": [],
   "source": []
  },
  {
   "cell_type": "code",
   "execution_count": null,
   "metadata": {},
   "outputs": [],
   "source": []
  },
  {
   "cell_type": "code",
   "execution_count": null,
   "metadata": {},
   "outputs": [],
   "source": []
  },
  {
   "cell_type": "code",
   "execution_count": null,
   "metadata": {},
   "outputs": [],
   "source": []
  },
  {
   "cell_type": "code",
   "execution_count": null,
   "metadata": {},
   "outputs": [],
   "source": []
  }
 ],
 "metadata": {
  "kernelspec": {
   "display_name": "Python 3",
   "language": "python",
   "name": "python3"
  },
  "language_info": {
   "codemirror_mode": {
    "name": "ipython",
    "version": 3
   },
   "file_extension": ".py",
   "mimetype": "text/x-python",
   "name": "python",
   "nbconvert_exporter": "python",
   "pygments_lexer": "ipython3",
   "version": "3.7.1"
  }
 },
 "nbformat": 4,
 "nbformat_minor": 2
}
